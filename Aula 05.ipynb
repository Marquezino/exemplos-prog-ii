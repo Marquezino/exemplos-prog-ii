{
 "cells": [
  {
   "cell_type": "markdown",
   "metadata": {},
   "source": [
    "# Aula Assíncrona 05\n",
    "\n",
    "Prof. Franklin de Lima Marquezino, Universidade Federal do Rio de Janeiro\n",
    "\n",
    "Material de apoio para aula de *Programação de Computadores II*, baseado principalmente no tutorial oficial Python em https://docs.python.org/pt-br/3/tutorial/errors.html. Vejam também o livro [A Byte of Python](https://python.swaroopch.com/exceptions.html), Capítulo \"Exceptions\", e o livro [Pense em Python](https://penseallen.github.io/PensePython2e/A-depuracao.html), Apêndice A.\n",
    "\n",
    "[CC BY-NC 3.0](https://creativecommons.org/licenses/by-nc/3.0/br)\n",
    "\n",
    "---"
   ]
  },
  {
   "cell_type": "markdown",
   "metadata": {},
   "source": [
    "## Erros e exceções\n",
    "\n",
    "\n",
    "- Existem pelo menos três tipos distintos de erros: erros de sintaxe, erros de semântica (ou de lógica) e exceções\n",
    "- **Erros de sintaxe**: algo errado com a estrutura do programa. *Exemplo: a omissão dos dois pontos no fim de uma instrução def*\n",
    "- **Erros de semântica**: problemas com um programa que é executado sem produzir mensagens de erro, mas que não faz a coisa certa. *Exemplo: o programador misturou sistema métrico e sistema imperial em partes diferentes do código, veja https://en.wikipedia.org/wiki/Mars_Climate_Orbiter#Cause_of_failure*\n",
    "- **Exceções**: erros detectados durante a execução do programa. *Exemplo: divisão por zero*\n",
    "- Exceções não tratadas pelos programas resultam em mensagens de erro"
   ]
  },
  {
   "cell_type": "code",
   "execution_count": 1,
   "metadata": {},
   "outputs": [
    {
     "name": "stdout",
     "output_type": "stream",
     "text": [
      "Digite um número: 5\n",
      "10 dividido pelo número que você digitou é igual a  2.0\n"
     ]
    }
   ],
   "source": [
    "x = int(input('Digite um número: '))\n",
    "y = 10/x\n",
    "print('10 dividido pelo número que você digitou é igual a ', y)"
   ]
  },
  {
   "cell_type": "code",
   "execution_count": 2,
   "metadata": {},
   "outputs": [
    {
     "name": "stdout",
     "output_type": "stream",
     "text": [
      "Digite um número: 0\n",
      "Você precisava ter digitado um número diferente de zero!\n",
      "Tente outra vez... digite um número, diferente de zero: 5\n",
      "10 dividido pelo número que você digitou é igual a  2.0\n"
     ]
    }
   ],
   "source": [
    "try:\n",
    "    x = int(input('Digite um número: '))\n",
    "    y = 10/x\n",
    "except ZeroDivisionError:\n",
    "    print('Você precisava ter digitado um número diferente de zero!')\n",
    "    x = int(input('Tente outra vez... digite um número, diferente de zero: '))\n",
    "    y = 10/x\n",
    "    \n",
    "print('10 dividido pelo número que você digitou é igual a ', y)"
   ]
  },
  {
   "cell_type": "code",
   "execution_count": 3,
   "metadata": {},
   "outputs": [
    {
     "name": "stdout",
     "output_type": "stream",
     "text": [
      "Digite um número: 0\n",
      "Você precisava ter digitado um número diferente de zero!\n",
      "Tente outra vez...\n",
      "Digite um número: 0\n",
      "Você precisava ter digitado um número diferente de zero!\n",
      "Tente outra vez...\n",
      "Digite um número: 5\n",
      "10 dividido pelo número que você digitou é igual a  2.0\n"
     ]
    }
   ],
   "source": [
    "while True:\n",
    "    try:\n",
    "        x = int(input('Digite um número: '))\n",
    "        y = 10/x\n",
    "        break\n",
    "    except ZeroDivisionError:\n",
    "        print('Você precisava ter digitado um número diferente de zero!')\n",
    "        print('Tente outra vez...')\n",
    "    except ValueError:\n",
    "        print('Não entendi esse número. Digite usando o teclado numérico.')\n",
    "        print('Tente outra vez...')\n",
    "        \n",
    "print('10 dividido pelo número que você digitou é igual a ', y)"
   ]
  },
  {
   "cell_type": "markdown",
   "metadata": {},
   "source": [
    "## Cláusulas except, else, finally"
   ]
  },
  {
   "cell_type": "code",
   "execution_count": 4,
   "metadata": {},
   "outputs": [
    {
     "name": "stdout",
     "output_type": "stream",
     "text": [
      "Digite um número: 0\n",
      "Você precisava ter digitado um número diferente de zero!\n",
      "Ultima chance! Digite um número: zero\n",
      "Isso sempre é executado\n"
     ]
    },
    {
     "ename": "ValueError",
     "evalue": "invalid literal for int() with base 10: 'zero'",
     "output_type": "error",
     "traceback": [
      "\u001b[1;31m---------------------------------------------------------------------------\u001b[0m",
      "\u001b[1;31mZeroDivisionError\u001b[0m                         Traceback (most recent call last)",
      "\u001b[1;32m<ipython-input-4-8b2354808185>\u001b[0m in \u001b[0;36m<module>\u001b[1;34m\u001b[0m\n\u001b[0;32m      2\u001b[0m     \u001b[0mx\u001b[0m \u001b[1;33m=\u001b[0m \u001b[0mint\u001b[0m\u001b[1;33m(\u001b[0m\u001b[0minput\u001b[0m\u001b[1;33m(\u001b[0m\u001b[1;34m'Digite um número: '\u001b[0m\u001b[1;33m)\u001b[0m\u001b[1;33m)\u001b[0m\u001b[1;33m\u001b[0m\u001b[1;33m\u001b[0m\u001b[0m\n\u001b[1;32m----> 3\u001b[1;33m     \u001b[0my\u001b[0m \u001b[1;33m=\u001b[0m \u001b[1;36m10\u001b[0m\u001b[1;33m/\u001b[0m\u001b[0mx\u001b[0m\u001b[1;33m\u001b[0m\u001b[1;33m\u001b[0m\u001b[0m\n\u001b[0m\u001b[0;32m      4\u001b[0m \u001b[1;32mexcept\u001b[0m \u001b[0mZeroDivisionError\u001b[0m\u001b[1;33m:\u001b[0m\u001b[1;33m\u001b[0m\u001b[1;33m\u001b[0m\u001b[0m\n",
      "\u001b[1;31mZeroDivisionError\u001b[0m: division by zero",
      "\nDuring handling of the above exception, another exception occurred:\n",
      "\u001b[1;31mValueError\u001b[0m                                Traceback (most recent call last)",
      "\u001b[1;32m<ipython-input-4-8b2354808185>\u001b[0m in \u001b[0;36m<module>\u001b[1;34m\u001b[0m\n\u001b[0;32m      4\u001b[0m \u001b[1;32mexcept\u001b[0m \u001b[0mZeroDivisionError\u001b[0m\u001b[1;33m:\u001b[0m\u001b[1;33m\u001b[0m\u001b[1;33m\u001b[0m\u001b[0m\n\u001b[0;32m      5\u001b[0m     \u001b[0mprint\u001b[0m\u001b[1;33m(\u001b[0m\u001b[1;34m'Você precisava ter digitado um número diferente de zero!'\u001b[0m\u001b[1;33m)\u001b[0m\u001b[1;33m\u001b[0m\u001b[1;33m\u001b[0m\u001b[0m\n\u001b[1;32m----> 6\u001b[1;33m     \u001b[0mx\u001b[0m \u001b[1;33m=\u001b[0m \u001b[0mint\u001b[0m\u001b[1;33m(\u001b[0m\u001b[0minput\u001b[0m\u001b[1;33m(\u001b[0m\u001b[1;34m'Ultima chance! Digite um número: '\u001b[0m\u001b[1;33m)\u001b[0m\u001b[1;33m)\u001b[0m\u001b[1;33m\u001b[0m\u001b[1;33m\u001b[0m\u001b[0m\n\u001b[0m\u001b[0;32m      7\u001b[0m     \u001b[0my\u001b[0m \u001b[1;33m=\u001b[0m \u001b[1;36m10\u001b[0m\u001b[1;33m/\u001b[0m\u001b[0mx\u001b[0m\u001b[1;33m\u001b[0m\u001b[1;33m\u001b[0m\u001b[0m\n\u001b[0;32m      8\u001b[0m \u001b[1;32mexcept\u001b[0m \u001b[0mValueError\u001b[0m\u001b[1;33m:\u001b[0m\u001b[1;33m\u001b[0m\u001b[1;33m\u001b[0m\u001b[0m\n",
      "\u001b[1;31mValueError\u001b[0m: invalid literal for int() with base 10: 'zero'"
     ]
    }
   ],
   "source": [
    "try:\n",
    "    x = int(input('Digite um número: '))\n",
    "    y = 10/x\n",
    "except ZeroDivisionError:\n",
    "    print('Você precisava ter digitado um número diferente de zero!')\n",
    "    x = int(input('Ultima chance! Digite um número: '))\n",
    "    y = 10/x\n",
    "except ValueError:\n",
    "    print('Não entendi esse número. Digite usando o teclado numérico.')\n",
    "except:\n",
    "    print('Não sei o que aconteceu.')\n",
    "else:   \n",
    "    print('10 dividido pelo número que você digitou é igual a ', y)\n",
    "finally:\n",
    "    print('Isso sempre é executado')"
   ]
  },
  {
   "cell_type": "markdown",
   "metadata": {},
   "source": [
    "## Levantando exceções"
   ]
  },
  {
   "cell_type": "code",
   "execution_count": 5,
   "metadata": {},
   "outputs": [
    {
     "name": "stdout",
     "output_type": "stream",
     "text": [
      "Saldo atual:  100\n",
      "Quanto quer sacar? 50\n",
      "Saldo atual:  50.0\n"
     ]
    }
   ],
   "source": [
    "class Conta:\n",
    "    def __init__(self, cliente, saldo):\n",
    "        self.cliente = cliente\n",
    "        self.saldo = saldo\n",
    "    def sacar(self, valor):\n",
    "        if valor <= self.saldo:\n",
    "            self.saldo = self.saldo - valor\n",
    "        else:\n",
    "            raise ValueError\n",
    "\n",
    "c = Conta('Fulano', 100)\n",
    "print('Saldo atual: ', c.saldo)\n",
    "\n",
    "\n",
    "valor = float(input('Quanto quer sacar? '))\n",
    "c.sacar(valor)\n",
    "print('Saldo atual: ', c.saldo)"
   ]
  },
  {
   "cell_type": "markdown",
   "metadata": {},
   "source": [
    "## Exceções definidas pelo usuário"
   ]
  },
  {
   "cell_type": "code",
   "execution_count": 6,
   "metadata": {},
   "outputs": [
    {
     "name": "stdout",
     "output_type": "stream",
     "text": [
      "Saldo atual:  100\n",
      "Quanto quer sacar? 150\n",
      "Saldo insuficiente.\n",
      "Saldo atual:  100\n"
     ]
    }
   ],
   "source": [
    "class SaldoInsuficiente(Exception):\n",
    "    pass\n",
    "    \n",
    "class Conta:\n",
    "    def __init__(self, cliente, saldo):\n",
    "        self.cliente = cliente\n",
    "        self.saldo = saldo\n",
    "    def sacar(self, valor):\n",
    "        if valor <= self.saldo:\n",
    "            self.saldo = self.saldo - valor\n",
    "        else:\n",
    "            raise SaldoInsuficiente\n",
    "\n",
    "c = Conta('Fulano', 100)\n",
    "print('Saldo atual: ', c.saldo)\n",
    "\n",
    "try:\n",
    "    valor = float(input('Quanto quer sacar? '))\n",
    "    c.sacar(valor)\n",
    "except SaldoInsuficiente:\n",
    "    print('Saldo insuficiente.')\n",
    "else:\n",
    "    print('Saque efetuado.')\n",
    "    \n",
    "print('Saldo atual: ', c.saldo)"
   ]
  },
  {
   "cell_type": "markdown",
   "metadata": {},
   "source": [
    "## Encapsulamento"
   ]
  },
  {
   "cell_type": "markdown",
   "metadata": {},
   "source": [
    "Conceitos mais importantes em orientação a objetos:\n",
    "- herança,\n",
    "- polimorfismo,\n",
    "- **encapsulamento**.\n",
    "\n",
    "**Encapsulamento:** proteção de atributos e métodos de uma classe, restringindo o modo como podem ser acessados\n",
    "\n",
    "\n",
    "Modificadores de acesso:\n",
    "- público (+)\n",
    "- privado (-)\n",
    "\n",
    "Em Python não temos, rigorosamente, membros privados. Mas temos como obter um comportamento semelhante, ainda que com algumas limitações, usando dois sublinhados no início dos atributos e métodos."
   ]
  },
  {
   "cell_type": "code",
   "execution_count": 7,
   "metadata": {},
   "outputs": [],
   "source": [
    "class Retangulo:\n",
    "    def __init__(self, largura, altura):\n",
    "        self.largura = largura\n",
    "        self.altura = altura\n",
    "        \n",
    "    def area(self):\n",
    "        return self.largura * self.altura"
   ]
  },
  {
   "cell_type": "code",
   "execution_count": 8,
   "metadata": {},
   "outputs": [],
   "source": [
    "r = Retangulo(2,3)"
   ]
  },
  {
   "cell_type": "code",
   "execution_count": 9,
   "metadata": {},
   "outputs": [
    {
     "data": {
      "text/plain": [
       "6"
      ]
     },
     "execution_count": 9,
     "metadata": {},
     "output_type": "execute_result"
    }
   ],
   "source": [
    "r.area()"
   ]
  },
  {
   "cell_type": "code",
   "execution_count": 10,
   "metadata": {},
   "outputs": [],
   "source": [
    "r.altura = 2\n",
    "r.largura = 0"
   ]
  },
  {
   "cell_type": "code",
   "execution_count": 11,
   "metadata": {},
   "outputs": [
    {
     "data": {
      "text/plain": [
       "0"
      ]
     },
     "execution_count": 11,
     "metadata": {},
     "output_type": "execute_result"
    }
   ],
   "source": [
    "r.area()"
   ]
  },
  {
   "cell_type": "code",
   "execution_count": 12,
   "metadata": {},
   "outputs": [],
   "source": [
    "class Retangulo:\n",
    "    def __init__(self, largura, altura):\n",
    "        self.__largura = largura\n",
    "        self.__altura = altura\n",
    "        \n",
    "    def area(self):\n",
    "        return self.__largura * self.__altura"
   ]
  },
  {
   "cell_type": "code",
   "execution_count": 13,
   "metadata": {},
   "outputs": [],
   "source": [
    "r = Retangulo(2,3)"
   ]
  },
  {
   "cell_type": "code",
   "execution_count": 14,
   "metadata": {},
   "outputs": [
    {
     "ename": "AttributeError",
     "evalue": "'Retangulo' object has no attribute '__largura'",
     "output_type": "error",
     "traceback": [
      "\u001b[1;31m---------------------------------------------------------------------------\u001b[0m",
      "\u001b[1;31mAttributeError\u001b[0m                            Traceback (most recent call last)",
      "\u001b[1;32m<ipython-input-14-c91ee9644e0c>\u001b[0m in \u001b[0;36m<module>\u001b[1;34m\u001b[0m\n\u001b[1;32m----> 1\u001b[1;33m \u001b[0mr\u001b[0m\u001b[1;33m.\u001b[0m\u001b[0m__largura\u001b[0m\u001b[1;33m\u001b[0m\u001b[1;33m\u001b[0m\u001b[0m\n\u001b[0m",
      "\u001b[1;31mAttributeError\u001b[0m: 'Retangulo' object has no attribute '__largura'"
     ]
    }
   ],
   "source": [
    "r.__largura"
   ]
  },
  {
   "cell_type": "code",
   "execution_count": 15,
   "metadata": {},
   "outputs": [
    {
     "data": {
      "text/plain": [
       "6"
      ]
     },
     "execution_count": 15,
     "metadata": {},
     "output_type": "execute_result"
    }
   ],
   "source": [
    "r.area()"
   ]
  },
  {
   "cell_type": "code",
   "execution_count": 16,
   "metadata": {},
   "outputs": [],
   "source": [
    "r.__largura = 10\n",
    "r.__altura = 20"
   ]
  },
  {
   "cell_type": "code",
   "execution_count": 17,
   "metadata": {},
   "outputs": [
    {
     "data": {
      "text/plain": [
       "6"
      ]
     },
     "execution_count": 17,
     "metadata": {},
     "output_type": "execute_result"
    }
   ],
   "source": [
    "r.area()"
   ]
  },
  {
   "cell_type": "code",
   "execution_count": 18,
   "metadata": {},
   "outputs": [],
   "source": [
    "class Retangulo:\n",
    "    def __init__(self, largura, altura):\n",
    "        self.__largura = largura\n",
    "        self.__altura = altura\n",
    "        \n",
    "    def area(self):\n",
    "        return self.__largura * self.__altura\n",
    "    \n",
    "    def get_largura(self):\n",
    "        return self.__largura\n",
    "    \n",
    "    def set_largura(self, largura):\n",
    "        if isinstance(largura, (int, float)) and largura > 0:\n",
    "            self.__largura = largura\n",
    "        else:\n",
    "            raise ValueError\n",
    "\n",
    "    def get_altura(self):\n",
    "        return self.__altura\n",
    "    \n",
    "    def set_altura(self, altura):\n",
    "        if isinstance(altura, (int, float)) and altura > 0:\n",
    "            self.__altura = altura\n",
    "        else:\n",
    "            raise ValueError"
   ]
  },
  {
   "cell_type": "code",
   "execution_count": 19,
   "metadata": {},
   "outputs": [],
   "source": [
    "r = Retangulo(2,3)"
   ]
  },
  {
   "cell_type": "code",
   "execution_count": 20,
   "metadata": {},
   "outputs": [
    {
     "data": {
      "text/plain": [
       "6"
      ]
     },
     "execution_count": 20,
     "metadata": {},
     "output_type": "execute_result"
    }
   ],
   "source": [
    "r.area()"
   ]
  },
  {
   "cell_type": "code",
   "execution_count": 21,
   "metadata": {},
   "outputs": [],
   "source": [
    "r.set_largura(10)\n",
    "r.set_altura(20)"
   ]
  },
  {
   "cell_type": "code",
   "execution_count": 22,
   "metadata": {},
   "outputs": [
    {
     "data": {
      "text/plain": [
       "200"
      ]
     },
     "execution_count": 22,
     "metadata": {},
     "output_type": "execute_result"
    }
   ],
   "source": [
    "r.area()"
   ]
  },
  {
   "cell_type": "code",
   "execution_count": 23,
   "metadata": {},
   "outputs": [],
   "source": [
    "r.set_largura(2)\n",
    "r.set_altura(1.5)"
   ]
  },
  {
   "cell_type": "code",
   "execution_count": 24,
   "metadata": {},
   "outputs": [
    {
     "data": {
      "text/plain": [
       "3.0"
      ]
     },
     "execution_count": 24,
     "metadata": {},
     "output_type": "execute_result"
    }
   ],
   "source": [
    "r.area()"
   ]
  },
  {
   "cell_type": "code",
   "execution_count": null,
   "metadata": {},
   "outputs": [],
   "source": []
  }
 ],
 "metadata": {
  "kernelspec": {
   "display_name": "Python 3",
   "language": "python",
   "name": "python3"
  },
  "language_info": {
   "codemirror_mode": {
    "name": "ipython",
    "version": 3
   },
   "file_extension": ".py",
   "mimetype": "text/x-python",
   "name": "python",
   "nbconvert_exporter": "python",
   "pygments_lexer": "ipython3",
   "version": "3.7.3"
  }
 },
 "nbformat": 4,
 "nbformat_minor": 2
}
