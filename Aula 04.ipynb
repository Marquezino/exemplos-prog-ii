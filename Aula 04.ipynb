{
 "cells": [
  {
   "cell_type": "markdown",
   "metadata": {},
   "source": [
    "# Aula Assíncrona 04\n",
    "Prof. Franklin de Lima Marquezino, Universidade Federal do Rio de Janeiro\n",
    "\n",
    "Material de apoio para aula de *Programação de Computadores II*, baseado no Capítulo 18 do livro [Pense em Python](https://penseallen.github.io/PensePython2e/), e também no livro [A Byte of Python](https://python.swaroopch.com/oop.html)\n",
    "\n",
    "\n",
    "[CC BY-NC 3.0](https://creativecommons.org/licenses/by-nc/3.0/br)  \n",
    "Nota: o código da primeira seção veio do livro *A Byte of Python* e utiliza a licença [BSD](http://www.opensource.org/licenses/bsd-license.php).\n",
    "\n",
    "---"
   ]
  },
  {
   "cell_type": "markdown",
   "metadata": {},
   "source": [
    "- O principal desse capítulo é herança, que no entanto só começa na seção 18.7.\n",
    "- As seções de 18.1 até 18.6 são uma preparação, com objetivo de ter um exemplo mais interessante para demonstrar.\n",
    "\n",
    "## Apresentando herança primeiro\n",
    "\n",
    "- Uma classe pode herdar a definição de outra classe\n",
    "- Ou seja, pode herdar os estados (atributos) e comportamentos (métodos) de uma classe já existente\n",
    "- Nova classe: **filha**\n",
    "- Classe original: **pai**"
   ]
  },
  {
   "cell_type": "markdown",
   "metadata": {},
   "source": [
    "Vamos estudar o exemplo do livro \"A Byte of Python\".\n",
    "\n",
    "Começando com o que vocês já sabem:"
   ]
  },
  {
   "cell_type": "code",
   "execution_count": 1,
   "metadata": {},
   "outputs": [
    {
     "name": "stdout",
     "output_type": "stream",
     "text": [
      "(Initialized SchoolMember: Mrs. Shrividya)\n",
      "(Initialized SchoolMember: Swaroop)\n",
      "\n",
      "Name:\"Mrs. Shrividya\" Age:\"40\"\n",
      "Name:\"Swaroop\" Age:\"25\"\n"
     ]
    }
   ],
   "source": [
    "class SchoolMember:\n",
    "    '''Represents any school member.'''\n",
    "    def __init__(self, name, age):\n",
    "        self.name = name\n",
    "        self.age = age\n",
    "        print('(Initialized SchoolMember: {})'.format(self.name))\n",
    "\n",
    "    def tell(self):\n",
    "        '''Tell my details.'''\n",
    "        print('Name:\"{}\" Age:\"{}\"'.format(self.name, self.age))\n",
    "        \n",
    "\n",
    "t = SchoolMember('Mrs. Shrividya', 40)\n",
    "s = SchoolMember('Swaroop', 25)\n",
    "\n",
    "# prints a blank line\n",
    "print()\n",
    "\n",
    "members = [t, s]\n",
    "for member in members:\n",
    "    # Works for both Teachers and Students\n",
    "    member.tell()"
   ]
  },
  {
   "cell_type": "markdown",
   "metadata": {},
   "source": [
    "Agora, notem que além da classe `SchoolMember` poderíamos ter as classes `Teacher` e `Student`:"
   ]
  },
  {
   "cell_type": "markdown",
   "metadata": {},
   "source": [
    "<img src=\"Classe%20UML%20-%20Aula%2004.png\" width=500px>"
   ]
  },
  {
   "cell_type": "markdown",
   "metadata": {},
   "source": [
    "NOTA: A seção 18.8 do livro \"Pense em Python\" traz um diagrama de classes em formato que não é muito usual. O livro \"A Byte of Python\" não fala de diagramas de classes"
   ]
  },
  {
   "cell_type": "code",
   "execution_count": 2,
   "metadata": {},
   "outputs": [
    {
     "name": "stdout",
     "output_type": "stream",
     "text": [
      "(Initialized SchoolMember: Mrs. Shrividya)\n",
      "(Initialized Teacher: Mrs. Shrividya)\n",
      "(Initialized SchoolMember: Swaroop)\n",
      "(Initialized Student: Swaroop)\n",
      "\n",
      "Name:\"Mrs. Shrividya\" Age:\"40\"\n",
      "Salary: \"30000\"\n",
      "Name:\"Swaroop\" Age:\"25\"\n",
      "Marks: \"75\"\n"
     ]
    }
   ],
   "source": [
    "class SchoolMember:\n",
    "    '''Represents any school member.'''\n",
    "    def __init__(self, name, age):\n",
    "        self.name = name\n",
    "        self.age = age\n",
    "        print('(Initialized SchoolMember: {})'.format(self.name))\n",
    "\n",
    "    def tell(self):\n",
    "        '''Tell my details.'''\n",
    "        print('Name:\"{}\" Age:\"{}\"'.format(self.name, self.age))\n",
    "\n",
    "\n",
    "class Teacher(SchoolMember):\n",
    "    '''Represents a teacher.'''\n",
    "    def __init__(self, name, age, salary):\n",
    "        SchoolMember.__init__(self, name, age)\n",
    "        self.salary = salary\n",
    "        print('(Initialized Teacher: {})'.format(self.name))\n",
    "\n",
    "    def tell(self):\n",
    "        SchoolMember.tell(self)\n",
    "        print('Salary: \"{:d}\"'.format(self.salary))\n",
    "\n",
    "\n",
    "class Student(SchoolMember):\n",
    "    '''Represents a student.'''\n",
    "    def __init__(self, name, age, marks):\n",
    "        SchoolMember.__init__(self, name, age)\n",
    "        self.marks = marks\n",
    "        print('(Initialized Student: {})'.format(self.name))\n",
    "\n",
    "    def tell(self):\n",
    "        SchoolMember.tell(self)\n",
    "        print('Marks: \"{:d}\"'.format(self.marks))\n",
    "\n",
    "t = Teacher('Mrs. Shrividya', 40, 30000)\n",
    "s = Student('Swaroop', 25, 75)\n",
    "\n",
    "# prints a blank line\n",
    "print()\n",
    "\n",
    "members = [t, s]\n",
    "for member in members:\n",
    "    # Works for both Teachers and Students\n",
    "    member.tell()"
   ]
  },
  {
   "cell_type": "code",
   "execution_count": 3,
   "metadata": {},
   "outputs": [
    {
     "data": {
      "text/plain": [
       "__main__.Teacher"
      ]
     },
     "execution_count": 3,
     "metadata": {},
     "output_type": "execute_result"
    }
   ],
   "source": [
    "type(t)"
   ]
  },
  {
   "cell_type": "code",
   "execution_count": 4,
   "metadata": {},
   "outputs": [
    {
     "data": {
      "text/plain": [
       "__main__.Student"
      ]
     },
     "execution_count": 4,
     "metadata": {},
     "output_type": "execute_result"
    }
   ],
   "source": [
    "type(s)"
   ]
  },
  {
   "cell_type": "markdown",
   "metadata": {},
   "source": [
    "## Outro exemplo: jogo de cartas\n",
    "\n",
    "Agora vamos retomar o exemplo do livro \"Pense em Python\".\n",
    "\n",
    "Começando com o que vocês sabem:"
   ]
  },
  {
   "cell_type": "code",
   "execution_count": 5,
   "metadata": {},
   "outputs": [],
   "source": [
    "class Card:\n",
    "    \"\"\"Represents a standard playing card.\"\"\"\n",
    "    def __init__(self, suit=0, rank=2):\n",
    "        self.suit = suit\n",
    "        self.rank = rank"
   ]
  },
  {
   "cell_type": "code",
   "execution_count": 6,
   "metadata": {},
   "outputs": [],
   "source": [
    "queen_of_diamonds = Card(1, 12)"
   ]
  },
  {
   "cell_type": "markdown",
   "metadata": {},
   "source": [
    "Para não precisar memorizar esses códigos de naipe (suit) e valor (rank):"
   ]
  },
  {
   "cell_type": "code",
   "execution_count": 7,
   "metadata": {},
   "outputs": [],
   "source": [
    "class Card:\n",
    "    \n",
    "    # Atributos de classe\n",
    "    suit_names = ['Clubs', 'Diamonds', 'Hearts', 'Spades']\n",
    "    rank_names = [None, 'Ace', '2', '3', '4', '5', '6', '7',\n",
    "                  '8', '9', '10', 'Jack', 'Queen', 'King']\n",
    "    \n",
    "    \"\"\"Represents a standard playing card.\"\"\"\n",
    "    def __init__(self, suit=0, rank=2):\n",
    "        #Atributos de instância\n",
    "        self.suit = suit\n",
    "        self.rank = rank\n",
    "        \n",
    "    def __str__(self):\n",
    "        return '%s of %s' % (Card.rank_names[self.rank],\n",
    "                             Card.suit_names[self.suit])"
   ]
  },
  {
   "cell_type": "code",
   "execution_count": 8,
   "metadata": {},
   "outputs": [
    {
     "data": {
      "text/plain": [
       "['Clubs', 'Diamonds', 'Hearts', 'Spades']"
      ]
     },
     "execution_count": 8,
     "metadata": {},
     "output_type": "execute_result"
    }
   ],
   "source": [
    "Card.suit_names"
   ]
  },
  {
   "cell_type": "code",
   "execution_count": 9,
   "metadata": {},
   "outputs": [
    {
     "ename": "AttributeError",
     "evalue": "type object 'Card' has no attribute 'suit'",
     "output_type": "error",
     "traceback": [
      "\u001b[1;31m---------------------------------------------------------------------------\u001b[0m",
      "\u001b[1;31mAttributeError\u001b[0m                            Traceback (most recent call last)",
      "\u001b[1;32m<ipython-input-9-de883c4800f6>\u001b[0m in \u001b[0;36m<module>\u001b[1;34m\u001b[0m\n\u001b[1;32m----> 1\u001b[1;33m \u001b[0mCard\u001b[0m\u001b[1;33m.\u001b[0m\u001b[0msuit\u001b[0m\u001b[1;33m\u001b[0m\u001b[1;33m\u001b[0m\u001b[0m\n\u001b[0m",
      "\u001b[1;31mAttributeError\u001b[0m: type object 'Card' has no attribute 'suit'"
     ]
    }
   ],
   "source": [
    "Card.suit"
   ]
  },
  {
   "cell_type": "code",
   "execution_count": 10,
   "metadata": {},
   "outputs": [],
   "source": [
    "queen_of_diamonds = Card(1, 12)"
   ]
  },
  {
   "cell_type": "code",
   "execution_count": 11,
   "metadata": {},
   "outputs": [
    {
     "name": "stdout",
     "output_type": "stream",
     "text": [
      "Queen of Diamonds\n"
     ]
    }
   ],
   "source": [
    "print(queen_of_diamonds)"
   ]
  },
  {
   "cell_type": "code",
   "execution_count": 12,
   "metadata": {},
   "outputs": [],
   "source": [
    "c = Card(3,10)"
   ]
  },
  {
   "cell_type": "code",
   "execution_count": 13,
   "metadata": {},
   "outputs": [
    {
     "name": "stdout",
     "output_type": "stream",
     "text": [
      "10 of Spades\n"
     ]
    }
   ],
   "source": [
    "print(c)"
   ]
  },
  {
   "cell_type": "code",
   "execution_count": 14,
   "metadata": {},
   "outputs": [
    {
     "data": {
      "text/plain": [
       "1"
      ]
     },
     "execution_count": 14,
     "metadata": {},
     "output_type": "execute_result"
    }
   ],
   "source": [
    "queen_of_diamonds.suit"
   ]
  },
  {
   "cell_type": "markdown",
   "metadata": {},
   "source": [
    "## Comparação de cartas"
   ]
  },
  {
   "cell_type": "code",
   "execution_count": 15,
   "metadata": {},
   "outputs": [],
   "source": [
    "class Card:\n",
    "    \n",
    "    # Atributos de classe\n",
    "    suit_names = ['Clubs', 'Diamonds', 'Hearts', 'Spades']\n",
    "    rank_names = [None, 'Ace', '2', '3', '4', '5', '6', '7',\n",
    "                  '8', '9', '10', 'Jack', 'Queen', 'King']\n",
    "    \n",
    "    \"\"\"Represents a standard playing card.\"\"\"\n",
    "    def __init__(self, suit=0, rank=2):\n",
    "        #Atributos de instância\n",
    "        self.suit = suit\n",
    "        self.rank = rank\n",
    "        \n",
    "    def __str__(self):\n",
    "        return '%s of %s' % (Card.rank_names[self.rank],\n",
    "                             Card.suit_names[self.suit])\n",
    "    def __lt__(self, other):\n",
    "        # conferir os naipes\n",
    "        if self.suit < other.suit: return True\n",
    "        if self.suit > other.suit: return False\n",
    "\n",
    "        # os naipes são os mesmos... conferir valores\n",
    "        return self.rank < other.rank"
   ]
  },
  {
   "cell_type": "code",
   "execution_count": 16,
   "metadata": {},
   "outputs": [],
   "source": [
    "c1 = Card(1,3)\n",
    "c2 = Card(2,10)"
   ]
  },
  {
   "cell_type": "code",
   "execution_count": 17,
   "metadata": {},
   "outputs": [
    {
     "name": "stdout",
     "output_type": "stream",
     "text": [
      "3 of Diamonds\n",
      "10 of Hearts\n"
     ]
    }
   ],
   "source": [
    "print(c1)\n",
    "print(c2)"
   ]
  },
  {
   "cell_type": "code",
   "execution_count": 18,
   "metadata": {},
   "outputs": [
    {
     "data": {
      "text/plain": [
       "True"
      ]
     },
     "execution_count": 18,
     "metadata": {},
     "output_type": "execute_result"
    }
   ],
   "source": [
    "c1 < c2"
   ]
  },
  {
   "cell_type": "markdown",
   "metadata": {},
   "source": [
    "## Baralhos"
   ]
  },
  {
   "cell_type": "code",
   "execution_count": 19,
   "metadata": {},
   "outputs": [],
   "source": [
    "class Deck:\n",
    "    \n",
    "    def __init__(self):\n",
    "        self.cards = []\n",
    "        for suit in range(4):\n",
    "            for rank in range(1, 14):\n",
    "                card = Card(suit, rank)\n",
    "                self.cards.append(card)\n",
    "\n",
    "    def __str__(self):\n",
    "        res = []\n",
    "        for card in self.cards:\n",
    "            res.append(str(card))\n",
    "        return '\\n'.join(res)"
   ]
  },
  {
   "cell_type": "code",
   "execution_count": 22,
   "metadata": {},
   "outputs": [],
   "source": [
    "deck = Deck()"
   ]
  },
  {
   "cell_type": "code",
   "execution_count": 23,
   "metadata": {},
   "outputs": [
    {
     "name": "stdout",
     "output_type": "stream",
     "text": [
      "Ace of Clubs\n",
      "2 of Clubs\n",
      "3 of Clubs\n",
      "4 of Clubs\n",
      "5 of Clubs\n",
      "6 of Clubs\n",
      "7 of Clubs\n",
      "8 of Clubs\n",
      "9 of Clubs\n",
      "10 of Clubs\n",
      "Jack of Clubs\n",
      "Queen of Clubs\n",
      "King of Clubs\n",
      "Ace of Diamonds\n",
      "2 of Diamonds\n",
      "3 of Diamonds\n",
      "4 of Diamonds\n",
      "5 of Diamonds\n",
      "6 of Diamonds\n",
      "7 of Diamonds\n",
      "8 of Diamonds\n",
      "9 of Diamonds\n",
      "10 of Diamonds\n",
      "Jack of Diamonds\n",
      "Queen of Diamonds\n",
      "King of Diamonds\n",
      "Ace of Hearts\n",
      "2 of Hearts\n",
      "3 of Hearts\n",
      "4 of Hearts\n",
      "5 of Hearts\n",
      "6 of Hearts\n",
      "7 of Hearts\n",
      "8 of Hearts\n",
      "9 of Hearts\n",
      "10 of Hearts\n",
      "Jack of Hearts\n",
      "Queen of Hearts\n",
      "King of Hearts\n",
      "Ace of Spades\n",
      "2 of Spades\n",
      "3 of Spades\n",
      "4 of Spades\n",
      "5 of Spades\n",
      "6 of Spades\n",
      "7 of Spades\n",
      "8 of Spades\n",
      "9 of Spades\n",
      "10 of Spades\n",
      "Jack of Spades\n",
      "Queen of Spades\n",
      "King of Spades\n"
     ]
    }
   ],
   "source": [
    "print(deck)"
   ]
  },
  {
   "cell_type": "markdown",
   "metadata": {},
   "source": [
    "## Adição, remoção, embaralhamento e classificação"
   ]
  },
  {
   "cell_type": "code",
   "execution_count": 24,
   "metadata": {},
   "outputs": [],
   "source": [
    "import random \n",
    "\n",
    "class Deck:\n",
    "    \n",
    "    def __init__(self):\n",
    "        self.cards = []\n",
    "        for suit in range(4):\n",
    "            for rank in range(1, 14):\n",
    "                card = Card(suit, rank)\n",
    "                self.cards.append(card)\n",
    "\n",
    "    def __str__(self):\n",
    "        res = []\n",
    "        for card in self.cards:\n",
    "            res.append(str(card))\n",
    "        return '\\n'.join(res)\n",
    "\n",
    "    def pop_card(self):\n",
    "        return self.cards.pop()\n",
    "    \n",
    "    def add_card(self, card):\n",
    "        self.cards.append(card)\n",
    "        \n",
    "    def shuffle(self):\n",
    "        random.shuffle(self.cards)\n",
    "        \n",
    "    def sort(self):\n",
    "        self.cards.sort()"
   ]
  },
  {
   "cell_type": "code",
   "execution_count": 25,
   "metadata": {},
   "outputs": [],
   "source": [
    "deck = Deck()"
   ]
  },
  {
   "cell_type": "code",
   "execution_count": 26,
   "metadata": {},
   "outputs": [
    {
     "name": "stdout",
     "output_type": "stream",
     "text": [
      "Ace of Clubs\n",
      "2 of Clubs\n",
      "3 of Clubs\n",
      "4 of Clubs\n",
      "5 of Clubs\n",
      "6 of Clubs\n",
      "7 of Clubs\n",
      "8 of Clubs\n",
      "9 of Clubs\n",
      "10 of Clubs\n",
      "Jack of Clubs\n",
      "Queen of Clubs\n",
      "King of Clubs\n",
      "Ace of Diamonds\n",
      "2 of Diamonds\n",
      "3 of Diamonds\n",
      "4 of Diamonds\n",
      "5 of Diamonds\n",
      "6 of Diamonds\n",
      "7 of Diamonds\n",
      "8 of Diamonds\n",
      "9 of Diamonds\n",
      "10 of Diamonds\n",
      "Jack of Diamonds\n",
      "Queen of Diamonds\n",
      "King of Diamonds\n",
      "Ace of Hearts\n",
      "2 of Hearts\n",
      "3 of Hearts\n",
      "4 of Hearts\n",
      "5 of Hearts\n",
      "6 of Hearts\n",
      "7 of Hearts\n",
      "8 of Hearts\n",
      "9 of Hearts\n",
      "10 of Hearts\n",
      "Jack of Hearts\n",
      "Queen of Hearts\n",
      "King of Hearts\n",
      "Ace of Spades\n",
      "2 of Spades\n",
      "3 of Spades\n",
      "4 of Spades\n",
      "5 of Spades\n",
      "6 of Spades\n",
      "7 of Spades\n",
      "8 of Spades\n",
      "9 of Spades\n",
      "10 of Spades\n",
      "Jack of Spades\n",
      "Queen of Spades\n",
      "King of Spades\n"
     ]
    }
   ],
   "source": [
    "print(deck)"
   ]
  },
  {
   "cell_type": "code",
   "execution_count": 27,
   "metadata": {},
   "outputs": [],
   "source": [
    "deck.shuffle()"
   ]
  },
  {
   "cell_type": "code",
   "execution_count": 28,
   "metadata": {},
   "outputs": [
    {
     "name": "stdout",
     "output_type": "stream",
     "text": [
      "Jack of Clubs\n",
      "2 of Hearts\n",
      "10 of Diamonds\n",
      "7 of Diamonds\n",
      "8 of Hearts\n",
      "4 of Clubs\n",
      "9 of Spades\n",
      "Jack of Diamonds\n",
      "King of Diamonds\n",
      "Ace of Clubs\n",
      "6 of Spades\n",
      "7 of Clubs\n",
      "9 of Clubs\n",
      "King of Hearts\n",
      "9 of Hearts\n",
      "9 of Diamonds\n",
      "7 of Hearts\n",
      "8 of Spades\n",
      "Ace of Hearts\n",
      "6 of Clubs\n",
      "King of Spades\n",
      "Ace of Spades\n",
      "5 of Spades\n",
      "10 of Hearts\n",
      "4 of Diamonds\n",
      "Jack of Hearts\n",
      "Queen of Clubs\n",
      "7 of Spades\n",
      "King of Clubs\n",
      "10 of Clubs\n",
      "Queen of Hearts\n",
      "2 of Diamonds\n",
      "3 of Diamonds\n",
      "8 of Diamonds\n",
      "8 of Clubs\n",
      "4 of Spades\n",
      "Queen of Diamonds\n",
      "Jack of Spades\n",
      "2 of Spades\n",
      "3 of Clubs\n",
      "5 of Hearts\n",
      "6 of Hearts\n",
      "3 of Hearts\n",
      "10 of Spades\n",
      "5 of Clubs\n",
      "Ace of Diamonds\n",
      "5 of Diamonds\n",
      "6 of Diamonds\n",
      "Queen of Spades\n",
      "2 of Clubs\n",
      "3 of Spades\n",
      "4 of Hearts\n"
     ]
    }
   ],
   "source": [
    "print(deck)"
   ]
  },
  {
   "cell_type": "code",
   "execution_count": 29,
   "metadata": {},
   "outputs": [],
   "source": [
    "deck.sort()"
   ]
  },
  {
   "cell_type": "code",
   "execution_count": 30,
   "metadata": {},
   "outputs": [
    {
     "name": "stdout",
     "output_type": "stream",
     "text": [
      "Ace of Clubs\n",
      "2 of Clubs\n",
      "3 of Clubs\n",
      "4 of Clubs\n",
      "5 of Clubs\n",
      "6 of Clubs\n",
      "7 of Clubs\n",
      "8 of Clubs\n",
      "9 of Clubs\n",
      "10 of Clubs\n",
      "Jack of Clubs\n",
      "Queen of Clubs\n",
      "King of Clubs\n",
      "Ace of Diamonds\n",
      "2 of Diamonds\n",
      "3 of Diamonds\n",
      "4 of Diamonds\n",
      "5 of Diamonds\n",
      "6 of Diamonds\n",
      "7 of Diamonds\n",
      "8 of Diamonds\n",
      "9 of Diamonds\n",
      "10 of Diamonds\n",
      "Jack of Diamonds\n",
      "Queen of Diamonds\n",
      "King of Diamonds\n",
      "Ace of Hearts\n",
      "2 of Hearts\n",
      "3 of Hearts\n",
      "4 of Hearts\n",
      "5 of Hearts\n",
      "6 of Hearts\n",
      "7 of Hearts\n",
      "8 of Hearts\n",
      "9 of Hearts\n",
      "10 of Hearts\n",
      "Jack of Hearts\n",
      "Queen of Hearts\n",
      "King of Hearts\n",
      "Ace of Spades\n",
      "2 of Spades\n",
      "3 of Spades\n",
      "4 of Spades\n",
      "5 of Spades\n",
      "6 of Spades\n",
      "7 of Spades\n",
      "8 of Spades\n",
      "9 of Spades\n",
      "10 of Spades\n",
      "Jack of Spades\n",
      "Queen of Spades\n",
      "King of Spades\n"
     ]
    }
   ],
   "source": [
    "print(deck)"
   ]
  },
  {
   "cell_type": "markdown",
   "metadata": {},
   "source": [
    "## Aplicando herança nesse exemplo"
   ]
  },
  {
   "cell_type": "code",
   "execution_count": 31,
   "metadata": {},
   "outputs": [],
   "source": [
    "import random \n",
    "\n",
    "class Card:\n",
    "    \n",
    "    # Atributos de classe\n",
    "    suit_names = ['Clubs', 'Diamonds', 'Hearts', 'Spades']\n",
    "    rank_names = [None, 'Ace', '2', '3', '4', '5', '6', '7',\n",
    "                  '8', '9', '10', 'Jack', 'Queen', 'King']\n",
    "    \n",
    "    \"\"\"Represents a standard playing card.\"\"\"\n",
    "    def __init__(self, suit=0, rank=2):\n",
    "        #Atributos de instância\n",
    "        self.suit = suit\n",
    "        self.rank = rank\n",
    "        \n",
    "    def __str__(self):\n",
    "        return '%s of %s' % (Card.rank_names[self.rank],\n",
    "                             Card.suit_names[self.suit])\n",
    "    def __lt__(self, other):\n",
    "        # conferir os naipes\n",
    "        if self.suit < other.suit: return True\n",
    "        if self.suit > other.suit: return False\n",
    "\n",
    "        # os naipes são os mesmos... conferir valores\n",
    "        return self.rank < other.rank\n",
    "\n",
    "    \n",
    "class Deck:\n",
    "    \n",
    "    def __init__(self):\n",
    "        self.cards = []\n",
    "        for suit in range(4):\n",
    "            for rank in range(1, 14):\n",
    "                card = Card(suit, rank)\n",
    "                self.cards.append(card)\n",
    "\n",
    "    def __str__(self):\n",
    "        res = []\n",
    "        for card in self.cards:\n",
    "            res.append(str(card))\n",
    "        return '\\n'.join(res)\n",
    "\n",
    "    def pop_card(self):\n",
    "        return self.cards.pop()\n",
    "    \n",
    "    def add_card(self, card):\n",
    "        self.cards.append(card)\n",
    "        \n",
    "    def shuffle(self):\n",
    "        random.shuffle(self.cards)\n",
    "        \n",
    "    def sort(self):\n",
    "        self.cards.sort()\n",
    "             \n",
    "\n",
    "class Hand(Deck):\n",
    "    \"\"\"Represents a hand of playing cards.\"\"\"\n",
    "    \n",
    "    def __init__(self, label=''):\n",
    "        self.cards = []\n",
    "        self.label = label"
   ]
  },
  {
   "cell_type": "markdown",
   "metadata": {},
   "source": [
    "<img src=\"Classe%20UML%20-%20Aula%2004c.png\" width=400px>"
   ]
  },
  {
   "cell_type": "code",
   "execution_count": 32,
   "metadata": {},
   "outputs": [],
   "source": [
    "hand = Hand('new hand')"
   ]
  },
  {
   "cell_type": "code",
   "execution_count": 33,
   "metadata": {},
   "outputs": [
    {
     "data": {
      "text/plain": [
       "[]"
      ]
     },
     "execution_count": 33,
     "metadata": {},
     "output_type": "execute_result"
    }
   ],
   "source": [
    "hand.cards"
   ]
  },
  {
   "cell_type": "code",
   "execution_count": 34,
   "metadata": {},
   "outputs": [
    {
     "data": {
      "text/plain": [
       "'new hand'"
      ]
     },
     "execution_count": 34,
     "metadata": {},
     "output_type": "execute_result"
    }
   ],
   "source": [
    "hand.label"
   ]
  },
  {
   "cell_type": "code",
   "execution_count": 35,
   "metadata": {},
   "outputs": [
    {
     "name": "stdout",
     "output_type": "stream",
     "text": [
      "King of Spades\n"
     ]
    }
   ],
   "source": [
    "deck = Deck()\n",
    "card = deck.pop_card()\n",
    "hand.add_card(card)\n",
    "print(hand)"
   ]
  },
  {
   "cell_type": "code",
   "execution_count": 36,
   "metadata": {},
   "outputs": [
    {
     "name": "stdout",
     "output_type": "stream",
     "text": [
      "King of Spades\n",
      "Queen of Spades\n"
     ]
    }
   ],
   "source": [
    "card = deck.pop_card()\n",
    "hand.add_card(card)\n",
    "print(hand)"
   ]
  },
  {
   "cell_type": "code",
   "execution_count": null,
   "metadata": {},
   "outputs": [],
   "source": []
  },
  {
   "cell_type": "code",
   "execution_count": null,
   "metadata": {},
   "outputs": [],
   "source": []
  }
 ],
 "metadata": {
  "kernelspec": {
   "display_name": "Python 3",
   "language": "python",
   "name": "python3"
  },
  "language_info": {
   "codemirror_mode": {
    "name": "ipython",
    "version": 3
   },
   "file_extension": ".py",
   "mimetype": "text/x-python",
   "name": "python",
   "nbconvert_exporter": "python",
   "pygments_lexer": "ipython3",
   "version": "3.7.3"
  }
 },
 "nbformat": 4,
 "nbformat_minor": 2
}
